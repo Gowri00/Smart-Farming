{
 "cells": [
  {
   "cell_type": "markdown",
   "metadata": {},
   "source": [
    "## Execution of 2nd Logic for irrigation water prediction"
   ]
  },
  {
   "cell_type": "code",
   "execution_count": 37,
   "metadata": {},
   "outputs": [],
   "source": [
    "import numpy as np\n",
    "import pandas as pd\n",
    "import matplotlib.pyplot as plt"
   ]
  },
  {
   "cell_type": "code",
   "execution_count": 38,
   "metadata": {},
   "outputs": [],
   "source": [
    "data = pd.read_excel(\"parmeters.xlsx\")\n",
    "data\n",
    "data_copy = data.copy()"
   ]
  },
  {
   "cell_type": "code",
   "execution_count": 39,
   "metadata": {},
   "outputs": [],
   "source": [
    "#data[data[\"H\"]>=5]"
   ]
  },
  {
   "cell_type": "code",
   "execution_count": 40,
   "metadata": {},
   "outputs": [],
   "source": [
    "# Dividing the data points into different climatic zones\n",
    "data['zone'] = \"\"\n",
    "data.loc[data.H < 20, 'zone'] = 'arid'\n",
    "data.loc[(data.H>=20) & (data.H<50), 'zone'] = 'semi arid'\n",
    "data.loc[(data.H >=50) & (data.H<75), 'zone'] = 'sub humid'\n",
    "data.loc[data.H >=75, 'zone'] = 'humid'"
   ]
  },
  {
   "cell_type": "markdown",
   "metadata": {},
   "source": [
    "Kc values at : Initial | Crop development | Mid-season | Harvest stages\\\n",
    "Cotton \\\n",
    "Kc : 0.45 0.75 1.15 0.75\n",
    "\n",
    "Millet or Sorghum \\\n",
    "Kc : 0.35 0.75 1.10 0.65\n",
    "\n",
    "Maize \\\n",
    "Kc : 0.40 0.75 1.15 0.70\n",
    "\n",
    "Sugarcane \\\n",
    "Kc : 0.45 0.85 1.15 0.65\n",
    "\n"
   ]
  },
  {
   "cell_type": "markdown",
   "metadata": {},
   "source": [
    "## MILLET"
   ]
  },
  {
   "cell_type": "code",
   "execution_count": 41,
   "metadata": {},
   "outputs": [],
   "source": [
    "\n",
    "#Millet is sowed in high humid conditions\n",
    "data['period'] = \"\"\n",
    "data.loc[data.H < 20, 'period'] = 'harvest'\n",
    "data.loc[(data.H>=20) & (data.H<45), 'period'] = 'midseason'\n",
    "data.loc[(data.H >=45) & (data.H<=90), 'period'] = 'crop dev'\n",
    "data.loc[data.H >90, 'period'] = 'sow'\n",
    "\n",
    "#Kc values according to the data above\n",
    "data.loc[data[\"period\"]==\"sow\" , \"kc\"] = 0.35\n",
    "data.loc[data[\"period\"]==\"crop dev\",\"kc\"] = 0.75\n",
    "data.loc[data[\"period\"]==\"midseason\",\"kc\"] = 1.10\n",
    "data.loc[data[\"period\"]==\"harvest\",\"kc\"] = 0.65\n"
   ]
  },
  {
   "cell_type": "code",
   "execution_count": 42,
   "metadata": {},
   "outputs": [],
   "source": [
    "#Absolute evapotranspiration acc to temperature and humidity conditions taken from fao website\n",
    "data.loc[(data[\"T\"]<25) & (data[\"zone\"]==\"humid\") , \"ETo\"] = 3.5\n",
    "data.loc[(data[\"T\"]>=25) & (data[\"zone\"]==\"humid\"), \"ETo\"] = 5.5\n",
    "\n",
    "data.loc[(data[\"T\"]<25) & (data[\"zone\"]==\"sub humid\"), \"ETo\"] = 5.5\n",
    "data.loc[(data[\"T\"]>=25) & (data[\"zone\"]==\"sub humid\"), \"ETo\"] = 7.5\n",
    "\n",
    "data.loc[(data[\"T\"]<25) & (data[\"zone\"]==\"semi arid\"), \"ETo\"] = 6.5\n",
    "data.loc[(data[\"T\"]>=25) & (data[\"zone\"]==\"semi arid\"), \"ETo\"] = 8.5\n",
    "\n",
    "data.loc[(data[\"T\"]<25) & (data[\"zone\"]==\"arid\"), \"ETo\"] = 7.5\n",
    "data.loc[(data[\"T\"]>=25) & (data[\"zone\"]==\"arid\"), \"ETo\"] = 9.5"
   ]
  },
  {
   "cell_type": "code",
   "execution_count": 43,
   "metadata": {},
   "outputs": [],
   "source": [
    "data[\"Etc\"] = data[\"kc\"]*data[\"ETo\"]\n",
    "#data"
   ]
  },
  {
   "cell_type": "code",
   "execution_count": 44,
   "metadata": {},
   "outputs": [],
   "source": [
    "data_sow = data[data[\"period\"]==\"sow\"]\n",
    "data_dev = data[data[\"period\"]==\"crop dev\"]\n",
    "data_mid = data[data[\"period\"]==\"midseason\"]\n",
    "data_harvest = data[data[\"period\"]==\"harvest\"]\n",
    "\n",
    "\n",
    "#water required calculation as per eqn from fao website\n",
    "avg_sow = data_sow[\"M\"].mean()\n",
    "sow_water = (data_sow[\"Etc\"]-(abs(data_sow[\"M\"]-avg_sow)/100)).sum()\n",
    "avg_dev = data_dev[\"M\"].mean()\n",
    "dev_water = (data_dev[\"Etc\"]-(abs(data_dev[\"M\"]-avg_dev)/100)).sum()\n",
    "avg_mid = data_mid[\"M\"].mean()\n",
    "mid_water = (data_mid[\"Etc\"]-(abs(data_mid[\"M\"]-avg_mid)/100)).sum()\n",
    "avg_harvest = data_harvest[\"M\"].mean()\n",
    "harvest_water = (data_harvest[\"Etc\"]-(abs(data_harvest[\"M\"]-avg_harvest)/100)).sum()\n",
    "water_millet = sow_water+dev_water+mid_water+harvest_water\n",
    "#water_millet"
   ]
  },
  {
   "cell_type": "code",
   "execution_count": 45,
   "metadata": {
    "scrolled": true
   },
   "outputs": [
    {
     "data": {
      "text/plain": [
       "<BarContainer object of 4 artists>"
      ]
     },
     "execution_count": 45,
     "metadata": {},
     "output_type": "execute_result"
    },
    {
     "data": {
      "image/png": "[encoded data removed]",
      "text/plain": [
       "<Figure size 432x288 with 1 Axes>"
      ]
     },
     "metadata": {
      "needs_background": "light"
     },
     "output_type": "display_data"
    }
   ],
   "source": [
    "fig = plt.figure()\n",
    "ax = fig.add_axes([0,0,1,1])\n",
    "season = ['Initial', 'Development', 'Midseason', 'Harvest']\n",
    "amt = [sow_water,dev_water,mid_water,harvest_water]\n",
    "ax.bar(season,amt)"
   ]
  },
  {
   "cell_type": "markdown",
   "metadata": {},
   "source": [
    "## SUGARCANE"
   ]
  },
  {
   "cell_type": "code",
   "execution_count": 46,
   "metadata": {},
   "outputs": [
    {
     "name": "stdout",
     "output_type": "stream",
     "text": [
      "712191.3949932465\n"
     ]
    },
    {
     "data": {
      "image/png": "[encoded data removed]",
      "text/plain": [
       "<Figure size 432x288 with 1 Axes>"
      ]
     },
     "metadata": {
      "needs_background": "light"
     },
     "output_type": "display_data"
    }
   ],
   "source": [
    "data['period'] = \"\"\n",
    "data.loc[data.H < 20, 'period'] = 'crop dev'\n",
    "data.loc[(data.H>=20) & (data.H<45), 'period'] = 'sow'\n",
    "data.loc[(data.H >=45) & (data.H<=90), 'period'] = 'harvest'\n",
    "data.loc[data.H >90, 'period'] = 'midseason'\n",
    "\n",
    "data.loc[data[\"period\"]==\"sow\" , \"kc\"] = 0.40\n",
    "data.loc[data[\"period\"]==\"crop dev\",\"kc\"] = 0.85\n",
    "data.loc[data[\"period\"]==\"midseason\",\"kc\"] = 1.15\n",
    "data.loc[data[\"period\"]==\"harvest\",\"kc\"] = 0.65\n",
    "\n",
    "data.loc[(data[\"T\"]<25) & (data[\"zone\"]==\"humid\") , \"ETo\"] = 3.5\n",
    "data.loc[(data[\"T\"]>=25) & (data[\"zone\"]==\"humid\"), \"ETo\"] = 5.5\n",
    "\n",
    "data.loc[(data[\"T\"]<25) & (data[\"zone\"]==\"sub humid\"), \"ETo\"] = 5.5\n",
    "data.loc[(data[\"T\"]>=25) & (data[\"zone\"]==\"sub humid\"), \"ETo\"] = 7.5\n",
    "\n",
    "data.loc[(data[\"T\"]<25) & (data[\"zone\"]==\"semi arid\"), \"ETo\"] = 6.5\n",
    "data.loc[(data[\"T\"]>=25) & (data[\"zone\"]==\"semi arid\"), \"ETo\"] = 8.5\n",
    "\n",
    "data.loc[(data[\"T\"]<25) & (data[\"zone\"]==\"arid\"), \"ETo\"] = 7.5\n",
    "data.loc[(data[\"T\"]>=25) & (data[\"zone\"]==\"arid\"), \"ETo\"] = 9.5\n",
    "\n",
    "data[\"Etc\"] = data[\"kc\"]*data[\"ETo\"]\n",
    "data\n",
    "\n",
    "data_sow = data[data[\"period\"]==\"sow\"]\n",
    "data_dev = data[data[\"period\"]==\"crop dev\"]\n",
    "data_mid = data[data[\"period\"]==\"midseason\"]\n",
    "data_harvest = data[data[\"period\"]==\"harvest\"]\n",
    "\n",
    "\n",
    "avg_sow = data_sow[\"M\"].mean()\n",
    "sow_water = (data_sow[\"Etc\"]-(abs(data_sow[\"M\"]-avg_sow)/100)).sum()\n",
    "avg_dev = data_dev[\"M\"].mean()\n",
    "dev_water = (data_dev[\"Etc\"]-(abs(data_dev[\"M\"]-avg_dev)/100)).sum()\n",
    "avg_mid = data_mid[\"M\"].mean()\n",
    "mid_water = (data_mid[\"Etc\"]-(abs(data_mid[\"M\"]-avg_mid)/100)).sum()\n",
    "avg_harvest = data_harvest[\"M\"].mean()\n",
    "harvest_water = (data_harvest[\"Etc\"]-(abs(data_harvest[\"M\"]-avg_harvest)/100)).sum()\n",
    "water_sugar = sow_water+dev_water+mid_water+harvest_water\n",
    "\n",
    "fig = plt.figure()\n",
    "ax = fig.add_axes([0,0,1,1])\n",
    "season = ['Initial', 'Development', 'Midseason', 'Harvest']\n",
    "amt = [sow_water,dev_water,mid_water,harvest_water]\n",
    "ax.bar(season,amt)\n",
    "print(water_sugar)"
   ]
  },
  {
   "cell_type": "markdown",
   "metadata": {},
   "source": [
    "## COTTON"
   ]
  },
  {
   "cell_type": "code",
   "execution_count": 47,
   "metadata": {
    "scrolled": true
   },
   "outputs": [
    {
     "name": "stdout",
     "output_type": "stream",
     "text": [
      "684127.6199932465\n"
     ]
    },
    {
     "data": {
      "image/png": "[encoded data removed]",
      "text/plain": [
       "<Figure size 432x288 with 1 Axes>"
      ]
     },
     "metadata": {
      "needs_background": "light"
     },
     "output_type": "display_data"
    }
   ],
   "source": [
    "data['period'] = \"\"\n",
    "data.loc[data.H < 20, 'period'] = 'crop dev'\n",
    "data.loc[(data.H>=20) & (data.H<45), 'period'] = 'sow'\n",
    "data.loc[(data.H >=45) & (data.H<=90), 'period'] = 'harvest'\n",
    "data.loc[data.H >90, 'period'] = 'midseason'\n",
    "\n",
    "data.loc[data[\"period\"]==\"sow\" , \"kc\"] = 0.45\n",
    "data.loc[data[\"period\"]==\"crop dev\",\"kc\"] = 0.75\n",
    "data.loc[data[\"period\"]==\"midseason\",\"kc\"] = 1.15\n",
    "data.loc[data[\"period\"]==\"harvest\",\"kc\"] = 0.75\n",
    "\n",
    "data.loc[(data[\"T\"]<25) & (data[\"zone\"]==\"humid\") , \"ETo\"] = 3.5\n",
    "data.loc[(data[\"T\"]>=25) & (data[\"zone\"]==\"humid\"), \"ETo\"] = 5.5\n",
    "\n",
    "data.loc[(data[\"T\"]<25) & (data[\"zone\"]==\"sub humid\"), \"ETo\"] = 5.5\n",
    "data.loc[(data[\"T\"]>=25) & (data[\"zone\"]==\"sub humid\"), \"ETo\"] = 7.5\n",
    "\n",
    "data.loc[(data[\"T\"]<25) & (data[\"zone\"]==\"semi arid\"), \"ETo\"] = 6.5\n",
    "data.loc[(data[\"T\"]>=25) & (data[\"zone\"]==\"semi arid\"), \"ETo\"] = 8.5\n",
    "\n",
    "data.loc[(data[\"T\"]<25) & (data[\"zone\"]==\"arid\"), \"ETo\"] = 7.5\n",
    "data.loc[(data[\"T\"]>=25) & (data[\"zone\"]==\"arid\"), \"ETo\"] = 9.5\n",
    "\n",
    "data[\"Etc\"] = data[\"kc\"]*data[\"ETo\"]\n",
    "data\n",
    "\n",
    "data_sow = data[data[\"period\"]==\"sow\"]\n",
    "data_dev = data[data[\"period\"]==\"crop dev\"]\n",
    "data_mid = data[data[\"period\"]==\"midseason\"]\n",
    "data_harvest = data[data[\"period\"]==\"harvest\"]\n",
    "\n",
    "\n",
    "avg_sow = data_sow[\"M\"].mean()\n",
    "sow_water = (data_sow[\"Etc\"]-(abs(data_sow[\"M\"]-avg_sow)/100)).sum()\n",
    "avg_dev = data_dev[\"M\"].mean()\n",
    "dev_water = (data_dev[\"Etc\"]-(abs(data_dev[\"M\"]-avg_dev)/100)).sum()\n",
    "avg_mid = data_mid[\"M\"].mean()\n",
    "mid_water = (data_mid[\"Etc\"]-(abs(data_mid[\"M\"]-avg_mid)/100)).sum()\n",
    "avg_harvest = data_harvest[\"M\"].mean()\n",
    "harvest_water = (data_harvest[\"Etc\"]-(abs(data_harvest[\"M\"]-avg_harvest)/100)).sum()\n",
    "water_cotton = sow_water+dev_water+mid_water+harvest_water\n",
    "\n",
    "fig = plt.figure()\n",
    "ax = fig.add_axes([0,0,1,1])\n",
    "season = ['Initial', 'Development', 'Midseason', 'Harvest']\n",
    "amt = [sow_water,dev_water,mid_water,harvest_water]\n",
    "ax.bar(season,amt)\n",
    "print(water_cotton)"
   ]
  },
  {
   "cell_type": "markdown",
   "metadata": {},
   "source": [
    "## MAIZE"
   ]
  },
  {
   "cell_type": "code",
   "execution_count": 48,
   "metadata": {},
   "outputs": [
    {
     "name": "stdout",
     "output_type": "stream",
     "text": [
      "428990.2949932465\n"
     ]
    },
    {
     "data": {
      "image/png": "[encoded data removed]",
      "text/plain": [
       "<Figure size 432x288 with 1 Axes>"
      ]
     },
     "metadata": {
      "needs_background": "light"
     },
     "output_type": "display_data"
    }
   ],
   "source": [
    "data['period'] = \"\"\n",
    "data.loc[data.H < 20, 'period'] = 'sow'\n",
    "data.loc[(data.H>=20) & (data.H<45), 'period'] = 'harvest'\n",
    "data.loc[(data.H >=45) & (data.H<=90), 'period'] = 'midseason'\n",
    "data.loc[data.H >90, 'period'] = 'crop dev'\n",
    "\n",
    "data.loc[data[\"period\"]==\"sow\" , \"kc\"] = 0.40\n",
    "data.loc[data[\"period\"]==\"crop dev\",\"kc\"] = 0.75\n",
    "data.loc[data[\"period\"]==\"midseason\",\"kc\"] = 1.15\n",
    "data.loc[data[\"period\"]==\"harvest\",\"kc\"] = 0.70\n",
    "\n",
    "data.loc[(data[\"T\"]<25) & (data[\"zone\"]==\"humid\") , \"ETo\"] = 3.5\n",
    "data.loc[(data[\"T\"]>=25) & (data[\"zone\"]==\"humid\"), \"ETo\"] = 5.5\n",
    "\n",
    "data.loc[(data[\"T\"]<25) & (data[\"zone\"]==\"sub humid\"), \"ETo\"] = 5.5\n",
    "data.loc[(data[\"T\"]>=25) & (data[\"zone\"]==\"sub humid\"), \"ETo\"] = 7.5\n",
    "\n",
    "data.loc[(data[\"T\"]<25) & (data[\"zone\"]==\"semi arid\"), \"ETo\"] = 6.5\n",
    "data.loc[(data[\"T\"]>=25) & (data[\"zone\"]==\"semi arid\"), \"ETo\"] = 8.5\n",
    "\n",
    "data.loc[(data[\"T\"]<25) & (data[\"zone\"]==\"arid\"), \"ETo\"] = 7.5\n",
    "data.loc[(data[\"T\"]>=25) & (data[\"zone\"]==\"arid\"), \"ETo\"] = 9.5\n",
    "\n",
    "data[\"Etc\"] = data[\"kc\"]*data[\"ETo\"]\n",
    "data\n",
    "\n",
    "data_sow = data[data[\"period\"]==\"sow\"]\n",
    "data_dev = data[data[\"period\"]==\"crop dev\"]\n",
    "data_mid = data[data[\"period\"]==\"midseason\"]\n",
    "data_harvest = data[data[\"period\"]==\"harvest\"]\n",
    "\n",
    "\n",
    "avg_sow = data_sow[\"M\"].mean()\n",
    "sow_water = (data_sow[\"Etc\"]-(abs(data_sow[\"M\"]-avg_sow)/100)).sum()\n",
    "avg_dev = data_dev[\"M\"].mean()\n",
    "dev_water = (data_dev[\"Etc\"]-(abs(data_dev[\"M\"]-avg_dev)/100)).sum()\n",
    "avg_mid = data_mid[\"M\"].mean()\n",
    "mid_water = (data_mid[\"Etc\"]-(abs(data_mid[\"M\"]-avg_mid)/100)).sum()\n",
    "avg_harvest = data_harvest[\"M\"].mean()\n",
    "harvest_water = (data_harvest[\"Etc\"]-(abs(data_harvest[\"M\"]-avg_harvest)/100)).sum()\n",
    "water_maize = sow_water+dev_water+mid_water+harvest_water\n",
    "\n",
    "fig = plt.figure()\n",
    "ax = fig.add_axes([0,0,1,1])\n",
    "season = ['Initial', 'Development', 'Midseason', 'Harvest']\n",
    "amt = [sow_water,dev_water,mid_water,harvest_water]\n",
    "ax.bar(season,amt)\n",
    "print(water_maize)"
   ]
  },
  {
   "cell_type": "markdown",
   "metadata": {},
   "source": [
    "## Comaprison of water required for all 4 crops"
   ]
  },
  {
   "cell_type": "code",
   "execution_count": 49,
   "metadata": {},
   "outputs": [
    {
     "data": {
      "text/plain": [
       "<BarContainer object of 4 artists>"
      ]
     },
     "execution_count": 49,
     "metadata": {},
     "output_type": "execute_result"
    },
    {
     "data": {
      "image/png": "[encoded data removed]",
      "text/plain": [
       "<Figure size 432x288 with 1 Axes>"
      ]
     },
     "metadata": {
      "needs_background": "light"
     },
     "output_type": "display_data"
    }
   ],
   "source": [
    "fig = plt.figure()\n",
    "ax = fig.add_axes([0,0,1,1])\n",
    "season = ['Maize', 'Millet', 'Cotton', 'Sugarcane']\n",
    "amt = [water_maize,water_millet,water_cotton,water_sugar]\n",
    "ax.bar(season,amt)"
   ]
  },
  {
   "cell_type": "markdown",
   "metadata": {},
   "source": [
    "# Repeating data - 5 times"
   ]
  },
  {
   "cell_type": "code",
   "execution_count": 53,
   "metadata": {},
   "outputs": [],
   "source": [
    "data_new = pd.read_excel(\"parmeters.xlsx\")"
   ]
  },
  {
   "cell_type": "code",
   "execution_count": 54,
   "metadata": {},
   "outputs": [],
   "source": [
    "frames = [data_new,data_new,data_new,data_new,data_new]\n",
    "data = pd.concat(frames)\n",
    "\n",
    "# Dividing the data points into different climatic zones\n",
    "data['zone'] = \"\"\n",
    "data.loc[data.H < 20, 'zone'] = 'arid'\n",
    "data.loc[(data.H>=20) & (data.H<50), 'zone'] = 'semi arid'\n",
    "data.loc[(data.H >=50) & (data.H<75), 'zone'] = 'sub humid'\n",
    "data.loc[data.H >=75, 'zone'] = 'humid'"
   ]
  },
  {
   "cell_type": "markdown",
   "metadata": {},
   "source": [
    "# MILLET (with 5 times big data)"
   ]
  },
  {
   "cell_type": "code",
   "execution_count": 55,
   "metadata": {},
   "outputs": [
    {
     "data": {
      "text/plain": [
       "<BarContainer object of 4 artists>"
      ]
     },
     "execution_count": 55,
     "metadata": {},
     "output_type": "execute_result"
    },
    {
     "data": {
      "image/png": "[encoded data removed]",
      "text/plain": [
       "<Figure size 432x288 with 1 Axes>"
      ]
     },
     "metadata": {
      "needs_background": "light"
     },
     "output_type": "display_data"
    }
   ],
   "source": [
    "#Millet is sowed in high humid conditions\n",
    "data['period'] = \"\"\n",
    "data.loc[data.H < 20, 'period'] = 'harvest'\n",
    "data.loc[(data.H>=20) & (data.H<45), 'period'] = 'midseason'\n",
    "data.loc[(data.H >=45) & (data.H<=90), 'period'] = 'crop dev'\n",
    "data.loc[data.H >90, 'period'] = 'sow'\n",
    "\n",
    "#Kc values according to the data above\n",
    "data.loc[data[\"period\"]==\"sow\" , \"kc\"] = 0.35\n",
    "data.loc[data[\"period\"]==\"crop dev\",\"kc\"] = 0.75\n",
    "data.loc[data[\"period\"]==\"midseason\",\"kc\"] = 1.10\n",
    "data.loc[data[\"period\"]==\"harvest\",\"kc\"] = 0.65\n",
    "\n",
    "#Absolute evapotranspiration acc to temperature and humidity conditions taken from fao website\n",
    "data.loc[(data[\"T\"]<25) & (data[\"zone\"]==\"humid\") , \"ETo\"] = 3.5\n",
    "data.loc[(data[\"T\"]>=25) & (data[\"zone\"]==\"humid\"), \"ETo\"] = 5.5\n",
    "\n",
    "data.loc[(data[\"T\"]<25) & (data[\"zone\"]==\"sub humid\"), \"ETo\"] = 5.5\n",
    "data.loc[(data[\"T\"]>=25) & (data[\"zone\"]==\"sub humid\"), \"ETo\"] = 7.5\n",
    "\n",
    "data.loc[(data[\"T\"]<25) & (data[\"zone\"]==\"semi arid\"), \"ETo\"] = 6.5\n",
    "data.loc[(data[\"T\"]>=25) & (data[\"zone\"]==\"semi arid\"), \"ETo\"] = 8.5\n",
    "\n",
    "data.loc[(data[\"T\"]<25) & (data[\"zone\"]==\"arid\"), \"ETo\"] = 7.5\n",
    "data.loc[(data[\"T\"]>=25) & (data[\"zone\"]==\"arid\"), \"ETo\"] = 9.5\n",
    "\n",
    "data[\"Etc\"] = data[\"kc\"]*data[\"ETo\"]\n",
    "#data\n",
    "\n",
    "data_sow = data[data[\"period\"]==\"sow\"]\n",
    "data_dev = data[data[\"period\"]==\"crop dev\"]\n",
    "data_mid = data[data[\"period\"]==\"midseason\"]\n",
    "data_harvest = data[data[\"period\"]==\"harvest\"]\n",
    "\n",
    "\n",
    "#water required calculation as per eqn from fao website\n",
    "avg_sow = data_sow[\"M\"].mean()\n",
    "sow_water = (data_sow[\"Etc\"]-(abs(data_sow[\"M\"]-avg_sow)/100)).sum()\n",
    "avg_dev = data_dev[\"M\"].mean()\n",
    "dev_water = (data_dev[\"Etc\"]-(abs(data_dev[\"M\"]-avg_dev)/100)).sum()\n",
    "avg_mid = data_mid[\"M\"].mean()\n",
    "mid_water = (data_mid[\"Etc\"]-(abs(data_mid[\"M\"]-avg_mid)/100)).sum()\n",
    "avg_harvest = data_harvest[\"M\"].mean()\n",
    "harvest_water = (data_harvest[\"Etc\"]-(abs(data_harvest[\"M\"]-avg_harvest)/100)).sum()\n",
    "water_millet = sow_water+dev_water+mid_water+harvest_water\n",
    "#water_millet\n",
    "\n",
    "fig = plt.figure()\n",
    "ax = fig.add_axes([0,0,1,1])\n",
    "season = ['Initial', 'Development', 'Midseason', 'Harvest']\n",
    "amt = [sow_water,dev_water,mid_water,harvest_water]\n",
    "ax.bar(season,amt)"
   ]
  },
  {
   "cell_type": "markdown",
   "metadata": {
    "scrolled": false
   },
   "source": [
    "## SUGARCANE (With 5 times big data)"
   ]
  },
  {
   "cell_type": "code",
   "execution_count": 56,
   "metadata": {
    "scrolled": true
   },
   "outputs": [
    {
     "name": "stdout",
     "output_type": "stream",
     "text": [
      "3560956.9749662327\n"
     ]
    },
    {
     "data": {
      "image/png": "[encoded data removed]",
      "text/plain": [
       "<Figure size 432x288 with 1 Axes>"
      ]
     },
     "metadata": {
      "needs_background": "light"
     },
     "output_type": "display_data"
    }
   ],
   "source": [
    "data['period'] = \"\"\n",
    "data.loc[data.H < 20, 'period'] = 'crop dev'\n",
    "data.loc[(data.H>=20) & (data.H<45), 'period'] = 'sow'\n",
    "data.loc[(data.H >=45) & (data.H<=90), 'period'] = 'harvest'\n",
    "data.loc[data.H >90, 'period'] = 'midseason'\n",
    "\n",
    "data.loc[data[\"period\"]==\"sow\" , \"kc\"] = 0.40\n",
    "data.loc[data[\"period\"]==\"crop dev\",\"kc\"] = 0.85\n",
    "data.loc[data[\"period\"]==\"midseason\",\"kc\"] = 1.15\n",
    "data.loc[data[\"period\"]==\"harvest\",\"kc\"] = 0.65\n",
    "\n",
    "data.loc[(data[\"T\"]<25) & (data[\"zone\"]==\"humid\") , \"ETo\"] = 3.5\n",
    "data.loc[(data[\"T\"]>=25) & (data[\"zone\"]==\"humid\"), \"ETo\"] = 5.5\n",
    "\n",
    "data.loc[(data[\"T\"]<25) & (data[\"zone\"]==\"sub humid\"), \"ETo\"] = 5.5\n",
    "data.loc[(data[\"T\"]>=25) & (data[\"zone\"]==\"sub humid\"), \"ETo\"] = 7.5\n",
    "\n",
    "data.loc[(data[\"T\"]<25) & (data[\"zone\"]==\"semi arid\"), \"ETo\"] = 6.5\n",
    "data.loc[(data[\"T\"]>=25) & (data[\"zone\"]==\"semi arid\"), \"ETo\"] = 8.5\n",
    "\n",
    "data.loc[(data[\"T\"]<25) & (data[\"zone\"]==\"arid\"), \"ETo\"] = 7.5\n",
    "data.loc[(data[\"T\"]>=25) & (data[\"zone\"]==\"arid\"), \"ETo\"] = 9.5\n",
    "\n",
    "data[\"Etc\"] = data[\"kc\"]*data[\"ETo\"]\n",
    "data\n",
    "\n",
    "data_sow = data[data[\"period\"]==\"sow\"]\n",
    "data_dev = data[data[\"period\"]==\"crop dev\"]\n",
    "data_mid = data[data[\"period\"]==\"midseason\"]\n",
    "data_harvest = data[data[\"period\"]==\"harvest\"]\n",
    "\n",
    "\n",
    "avg_sow = data_sow[\"M\"].mean()\n",
    "sow_water = (data_sow[\"Etc\"]-(abs(data_sow[\"M\"]-avg_sow)/100)).sum()\n",
    "avg_dev = data_dev[\"M\"].mean()\n",
    "dev_water = (data_dev[\"Etc\"]-(abs(data_dev[\"M\"]-avg_dev)/100)).sum()\n",
    "avg_mid = data_mid[\"M\"].mean()\n",
    "mid_water = (data_mid[\"Etc\"]-(abs(data_mid[\"M\"]-avg_mid)/100)).sum()\n",
    "avg_harvest = data_harvest[\"M\"].mean()\n",
    "harvest_water = (data_harvest[\"Etc\"]-(abs(data_harvest[\"M\"]-avg_harvest)/100)).sum()\n",
    "water_sugar = sow_water+dev_water+mid_water+harvest_water\n",
    "\n",
    "fig = plt.figure()\n",
    "ax = fig.add_axes([0,0,1,1])\n",
    "season = ['Initial', 'Development', 'Midseason', 'Harvest']\n",
    "amt = [sow_water,dev_water,mid_water,harvest_water]\n",
    "ax.bar(season,amt)\n",
    "print(water_sugar)"
   ]
  },
  {
   "cell_type": "markdown",
   "metadata": {},
   "source": [
    "## COTTON (With 5 times data)"
   ]
  },
  {
   "cell_type": "code",
   "execution_count": 57,
   "metadata": {},
   "outputs": [
    {
     "name": "stdout",
     "output_type": "stream",
     "text": [
      "3420638.0999662327\n"
     ]
    },
    {
     "data": {
      "image/png": "[encoded data removed]",
      "text/plain": [
       "<Figure size 432x288 with 1 Axes>"
      ]
     },
     "metadata": {
      "needs_background": "light"
     },
     "output_type": "display_data"
    }
   ],
   "source": [
    "data['period'] = \"\"\n",
    "data.loc[data.H < 20, 'period'] = 'crop dev'\n",
    "data.loc[(data.H>=20) & (data.H<45), 'period'] = 'sow'\n",
    "data.loc[(data.H >=45) & (data.H<=90), 'period'] = 'harvest'\n",
    "data.loc[data.H >90, 'period'] = 'midseason'\n",
    "\n",
    "data.loc[data[\"period\"]==\"sow\" , \"kc\"] = 0.45\n",
    "data.loc[data[\"period\"]==\"crop dev\",\"kc\"] = 0.75\n",
    "data.loc[data[\"period\"]==\"midseason\",\"kc\"] = 1.15\n",
    "data.loc[data[\"period\"]==\"harvest\",\"kc\"] = 0.75\n",
    "\n",
    "data.loc[(data[\"T\"]<25) & (data[\"zone\"]==\"humid\") , \"ETo\"] = 3.5\n",
    "data.loc[(data[\"T\"]>=25) & (data[\"zone\"]==\"humid\"), \"ETo\"] = 5.5\n",
    "\n",
    "data.loc[(data[\"T\"]<25) & (data[\"zone\"]==\"sub humid\"), \"ETo\"] = 5.5\n",
    "data.loc[(data[\"T\"]>=25) & (data[\"zone\"]==\"sub humid\"), \"ETo\"] = 7.5\n",
    "\n",
    "data.loc[(data[\"T\"]<25) & (data[\"zone\"]==\"semi arid\"), \"ETo\"] = 6.5\n",
    "data.loc[(data[\"T\"]>=25) & (data[\"zone\"]==\"semi arid\"), \"ETo\"] = 8.5\n",
    "\n",
    "data.loc[(data[\"T\"]<25) & (data[\"zone\"]==\"arid\"), \"ETo\"] = 7.5\n",
    "data.loc[(data[\"T\"]>=25) & (data[\"zone\"]==\"arid\"), \"ETo\"] = 9.5\n",
    "\n",
    "data[\"Etc\"] = data[\"kc\"]*data[\"ETo\"]\n",
    "data\n",
    "\n",
    "data_sow = data[data[\"period\"]==\"sow\"]\n",
    "data_dev = data[data[\"period\"]==\"crop dev\"]\n",
    "data_mid = data[data[\"period\"]==\"midseason\"]\n",
    "data_harvest = data[data[\"period\"]==\"harvest\"]\n",
    "\n",
    "\n",
    "avg_sow = data_sow[\"M\"].mean()\n",
    "sow_water = (data_sow[\"Etc\"]-(abs(data_sow[\"M\"]-avg_sow)/100)).sum()\n",
    "avg_dev = data_dev[\"M\"].mean()\n",
    "dev_water = (data_dev[\"Etc\"]-(abs(data_dev[\"M\"]-avg_dev)/100)).sum()\n",
    "avg_mid = data_mid[\"M\"].mean()\n",
    "mid_water = (data_mid[\"Etc\"]-(abs(data_mid[\"M\"]-avg_mid)/100)).sum()\n",
    "avg_harvest = data_harvest[\"M\"].mean()\n",
    "harvest_water = (data_harvest[\"Etc\"]-(abs(data_harvest[\"M\"]-avg_harvest)/100)).sum()\n",
    "water_cotton = sow_water+dev_water+mid_water+harvest_water\n",
    "\n",
    "fig = plt.figure()\n",
    "ax = fig.add_axes([0,0,1,1])\n",
    "season = ['Initial', 'Development', 'Midseason', 'Harvest']\n",
    "amt = [sow_water,dev_water,mid_water,harvest_water]\n",
    "ax.bar(season,amt)\n",
    "print(water_cotton)"
   ]
  },
  {
   "cell_type": "markdown",
   "metadata": {},
   "source": [
    "## MAIZE (With 5 times data)"
   ]
  },
  {
   "cell_type": "code",
   "execution_count": 58,
   "metadata": {},
   "outputs": [
    {
     "name": "stdout",
     "output_type": "stream",
     "text": [
      "2144951.4749662327\n"
     ]
    },
    {
     "data": {
      "image/png": "[encoded data removed]",
      "text/plain": [
       "<Figure size 432x288 with 1 Axes>"
      ]
     },
     "metadata": {
      "needs_background": "light"
     },
     "output_type": "display_data"
    }
   ],
   "source": [
    "data['period'] = \"\"\n",
    "data.loc[data.H < 20, 'period'] = 'sow'\n",
    "data.loc[(data.H>=20) & (data.H<45), 'period'] = 'harvest'\n",
    "data.loc[(data.H >=45) & (data.H<=90), 'period'] = 'midseason'\n",
    "data.loc[data.H >90, 'period'] = 'crop dev'\n",
    "\n",
    "data.loc[data[\"period\"]==\"sow\" , \"kc\"] = 0.40\n",
    "data.loc[data[\"period\"]==\"crop dev\",\"kc\"] = 0.75\n",
    "data.loc[data[\"period\"]==\"midseason\",\"kc\"] = 1.15\n",
    "data.loc[data[\"period\"]==\"harvest\",\"kc\"] = 0.70\n",
    "\n",
    "data.loc[(data[\"T\"]<25) & (data[\"zone\"]==\"humid\") , \"ETo\"] = 3.5\n",
    "data.loc[(data[\"T\"]>=25) & (data[\"zone\"]==\"humid\"), \"ETo\"] = 5.5\n",
    "\n",
    "data.loc[(data[\"T\"]<25) & (data[\"zone\"]==\"sub humid\"), \"ETo\"] = 5.5\n",
    "data.loc[(data[\"T\"]>=25) & (data[\"zone\"]==\"sub humid\"), \"ETo\"] = 7.5\n",
    "\n",
    "data.loc[(data[\"T\"]<25) & (data[\"zone\"]==\"semi arid\"), \"ETo\"] = 6.5\n",
    "data.loc[(data[\"T\"]>=25) & (data[\"zone\"]==\"semi arid\"), \"ETo\"] = 8.5\n",
    "\n",
    "data.loc[(data[\"T\"]<25) & (data[\"zone\"]==\"arid\"), \"ETo\"] = 7.5\n",
    "data.loc[(data[\"T\"]>=25) & (data[\"zone\"]==\"arid\"), \"ETo\"] = 9.5\n",
    "\n",
    "data[\"Etc\"] = data[\"kc\"]*data[\"ETo\"]\n",
    "data\n",
    "\n",
    "data_sow = data[data[\"period\"]==\"sow\"]\n",
    "data_dev = data[data[\"period\"]==\"crop dev\"]\n",
    "data_mid = data[data[\"period\"]==\"midseason\"]\n",
    "data_harvest = data[data[\"period\"]==\"harvest\"]\n",
    "\n",
    "\n",
    "avg_sow = data_sow[\"M\"].mean()\n",
    "sow_water = (data_sow[\"Etc\"]-(abs(data_sow[\"M\"]-avg_sow)/100)).sum()\n",
    "avg_dev = data_dev[\"M\"].mean()\n",
    "dev_water = (data_dev[\"Etc\"]-(abs(data_dev[\"M\"]-avg_dev)/100)).sum()\n",
    "avg_mid = data_mid[\"M\"].mean()\n",
    "mid_water = (data_mid[\"Etc\"]-(abs(data_mid[\"M\"]-avg_mid)/100)).sum()\n",
    "avg_harvest = data_harvest[\"M\"].mean()\n",
    "harvest_water = (data_harvest[\"Etc\"]-(abs(data_harvest[\"M\"]-avg_harvest)/100)).sum()\n",
    "water_maize = sow_water+dev_water+mid_water+harvest_water\n",
    "\n",
    "fig = plt.figure()\n",
    "ax = fig.add_axes([0,0,1,1])\n",
    "season = ['Initial', 'Development', 'Midseason', 'Harvest']\n",
    "amt = [sow_water,dev_water,mid_water,harvest_water]\n",
    "ax.bar(season,amt)\n",
    "print(water_maize)"
   ]
  },
  {
   "cell_type": "code",
   "execution_count": 59,
   "metadata": {},
   "outputs": [
    {
     "data": {
      "text/plain": [
       "<BarContainer object of 4 artists>"
      ]
     },
     "execution_count": 59,
     "metadata": {},
     "output_type": "execute_result"
    },
    {
     "data": {
      "image/png": "[encoded data removed]",
      "text/plain": [
       "<Figure size 432x288 with 1 Axes>"
      ]
     },
     "metadata": {
      "needs_background": "light"
     },
     "output_type": "display_data"
    }
   ],
   "source": [
    "fig = plt.figure()\n",
    "ax = fig.add_axes([0,0,1,1])\n",
    "season = ['Maize', 'Millet', 'Cotton', 'Sugarcane']\n",
    "amt = [water_maize,water_millet,water_cotton,water_sugar]\n",
    "ax.bar(season,amt)"
   ]
  },
  {
   "cell_type": "code",
   "execution_count": null,
   "metadata": {},
   "outputs": [],
   "source": []
  }
 ],
 "metadata": {
  "kernelspec": {
   "display_name": "Python 3",
   "language": "python",
   "name": "python3"
  },
  "language_info": {
   "codemirror_mode": {
    "name": "ipython",
    "version": 3
   },
   "file_extension": ".py",
   "mimetype": "text/x-python",
   "name": "python",
   "nbconvert_exporter": "python",
   "pygments_lexer": "ipython3",
   "version": "3.7.4"
  }
 },
 "nbformat": 4,
 "nbformat_minor": 2
}
